{
 "cells": [
  {
   "cell_type": "markdown",
   "metadata": {},
   "source": [
    "1.2 Elementos básicos de Python\n",
    "====================\n",
    "En este notebook trabajaremos interactivamente para entender los conceptos básicos del lenguaje de programación Python\n",
    "\n",
    "Contenidos\n",
    "---------------------\n",
    "+ Trabajar con variables tipo _string_ y tipo numérico\n",
    "+ Funciones\n",
    "+ Tipos de listas\n",
    "+ _Loops_ e _if/else_\n",
    "+ Leer ficheros"
   ]
  },
  {
   "cell_type": "markdown",
   "metadata": {},
   "source": [
    "**A** es una variable tipo texto. Las variables de tipo texto se generan con texto entre comillas"
   ]
  },
  {
   "cell_type": "code",
   "execution_count": 1,
   "metadata": {},
   "outputs": [],
   "source": [
    "A = 'un texto muy largo'"
   ]
  },
  {
   "cell_type": "code",
   "execution_count": 2,
   "metadata": {},
   "outputs": [
    {
     "data": {
      "text/plain": [
       "str"
      ]
     },
     "execution_count": 2,
     "metadata": {},
     "output_type": "execute_result"
    }
   ],
   "source": [
    "type(A)"
   ]
  },
  {
   "cell_type": "markdown",
   "metadata": {},
   "source": [
    "En Python las variables son objectos. Y todos los objectos tienen metodos asociados,<br>\n",
    "y son diferentes en funcion de que clase de objetos se trate.<br>\n",
    "Por ejemplo, si estamos ante un objeto de tipo _string_ algo que podriamos esperar es pasar el texto a mayusculas.<br>"
   ]
  },
  {
   "cell_type": "code",
   "execution_count": 3,
   "metadata": {},
   "outputs": [
    {
     "data": {
      "text/plain": [
       "'UN TEXTO MUY LARGO'"
      ]
     },
     "execution_count": 3,
     "metadata": {},
     "output_type": "execute_result"
    }
   ],
   "source": [
    "A.upper()"
   ]
  },
  {
   "cell_type": "markdown",
   "metadata": {},
   "source": [
    "Los metodos se aplican a la derecha, con un punto seguido del metodo.<br>\n",
    "Algunos metodos exigen argumentos que se introducen entre las parentesis.<br>\n",
    "Otros metodos, los sencillo, no requieren de argumentos, de ahi que las parentesis estén vacias.<br>"
   ]
  },
  {
   "cell_type": "markdown",
   "metadata": {},
   "source": [
    "Las variables de tipo texto pueden substituirse mediante el simbolo %.<br>\n",
    "En este caso, mediante %s, la s corresponde al tipo _string_.<br>"
   ]
  },
  {
   "cell_type": "code",
   "execution_count": 4,
   "metadata": {},
   "outputs": [],
   "source": [
    "titulo = 'A es %s' % A.upper()"
   ]
  },
  {
   "cell_type": "markdown",
   "metadata": {},
   "source": [
    "Hemos creado la variable titulo a partir de substituir en un string (está entre comillas, y todo lo que está<br>\n",
    "entre comillas es un _string_) una variable tipo _string_ mediante el uso de %<br>"
   ]
  },
  {
   "cell_type": "markdown",
   "metadata": {},
   "source": [
    "A parte de los metodos, existen las funciones.<br>\n",
    "Las funcions en Python son muy parecidas a las tipicas funciones en matematicas, _x = f(x)_"
   ]
  },
  {
   "cell_type": "markdown",
   "metadata": {},
   "source": [
    "Usaremos la funcion _print_ para que nos _'imprima'_ el contenido de la variable _titulo_"
   ]
  },
  {
   "cell_type": "code",
   "execution_count": 5,
   "metadata": {},
   "outputs": [
    {
     "name": "stdout",
     "output_type": "stream",
     "text": [
      "A es UN TEXTO MUY LARGO\n"
     ]
    }
   ],
   "source": [
    "print(titulo)"
   ]
  },
  {
   "cell_type": "markdown",
   "metadata": {},
   "source": [
    "<br>"
   ]
  },
  {
   "cell_type": "markdown",
   "metadata": {},
   "source": [
    "Otro tipo muy utilizado de variables es la variable de tipo numerico.<br>\n",
    "En este caso la denominaremos **x**, y le asignaremos un valor (numerico).<br>"
   ]
  },
  {
   "cell_type": "code",
   "execution_count": 6,
   "metadata": {},
   "outputs": [],
   "source": [
    "x = 212"
   ]
  },
  {
   "cell_type": "code",
   "execution_count": 7,
   "metadata": {},
   "outputs": [
    {
     "data": {
      "text/plain": [
       "int"
      ]
     },
     "execution_count": 7,
     "metadata": {},
     "output_type": "execute_result"
    }
   ],
   "source": [
    "type(x)"
   ]
  },
  {
   "cell_type": "markdown",
   "metadata": {},
   "source": [
    "El tipo _int_ se corresponde con el tipo numero entero"
   ]
  },
  {
   "cell_type": "markdown",
   "metadata": {},
   "source": [
    "Si queremos comprobar que hemos asignado correctamente el valor, haremos uso de la funcion _print_"
   ]
  },
  {
   "cell_type": "code",
   "execution_count": 8,
   "metadata": {},
   "outputs": [
    {
     "name": "stdout",
     "output_type": "stream",
     "text": [
      "212\n"
     ]
    }
   ],
   "source": [
    "print(x)"
   ]
  },
  {
   "cell_type": "markdown",
   "metadata": {},
   "source": [
    "Como se puede comprobar, se puede imprimir tanto valores del tipo _string_ como del tipo _int_.<br>\n",
    "El nombre _print_ es una herencia del pasado..."
   ]
  },
  {
   "cell_type": "markdown",
   "metadata": {},
   "source": [
    "Podemos crear una variable de tipo _string_ a partir de una variable numerica usando %"
   ]
  },
  {
   "cell_type": "code",
   "execution_count": 9,
   "metadata": {},
   "outputs": [],
   "source": [
    "titulo = 'x = %s' % (2*x)"
   ]
  },
  {
   "cell_type": "code",
   "execution_count": 10,
   "metadata": {},
   "outputs": [
    {
     "name": "stdout",
     "output_type": "stream",
     "text": [
      "x = 424\n"
     ]
    }
   ],
   "source": [
    "print(titulo)"
   ]
  },
  {
   "cell_type": "markdown",
   "metadata": {},
   "source": [
    "Podemos crear una variable de tipo _string_ con informacion de ambas variables."
   ]
  },
  {
   "cell_type": "code",
   "execution_count": 11,
   "metadata": {},
   "outputs": [
    {
     "name": "stdout",
     "output_type": "stream",
     "text": [
      "A es UN TEXTO MUY LARGO y x = 212\n"
     ]
    }
   ],
   "source": [
    "titulo = 'A es %s y x = %s' % (A.upper(),x)\n",
    "print (titulo)"
   ]
  },
  {
   "cell_type": "markdown",
   "metadata": {},
   "source": [
    "Ejercicio : Crea una variable del tipo _string_ en la que se puede leer el valor y el _type_ de las A y x"
   ]
  },
  {
   "cell_type": "code",
   "execution_count": 12,
   "metadata": {},
   "outputs": [],
   "source": [
    "titulo = '' % ()"
   ]
  },
  {
   "cell_type": "markdown",
   "metadata": {},
   "source": [
    "<br>"
   ]
  },
  {
   "cell_type": "markdown",
   "metadata": {},
   "source": [
    "## Funciones<br>\n",
    "Las funciones en Python se definen precedidas por **def** y terminan por **return**\n"
   ]
  },
  {
   "cell_type": "code",
   "execution_count": 14,
   "metadata": {},
   "outputs": [],
   "source": [
    "def mifuncion():\n",
    "    # Aqui viene descrita la funcion\n",
    "    return"
   ]
  },
  {
   "cell_type": "markdown",
   "metadata": {},
   "source": [
    "La indentacion es una parte fundamental del lenguaje de programcion Python y sirve para organizar el codigo.<br>\n",
    "En Python la indentacion es de 4 espacios"
   ]
  },
  {
   "cell_type": "markdown",
   "metadata": {},
   "source": [
    "**Nota** : La almohadilla # se utiliza para poder hacer comentarios en el codigo.<br>\n",
    "Toda lo situado a la derecha de # no se ejecuta"
   ]
  },
  {
   "cell_type": "markdown",
   "metadata": {},
   "source": [
    "Las funciones admiten argumentos de entrada"
   ]
  },
  {
   "cell_type": "code",
   "execution_count": 24,
   "metadata": {},
   "outputs": [],
   "source": [
    "def mifuncion(y,z):\n",
    "    # Aqui viene descrita la funcion\n",
    "    return"
   ]
  },
  {
   "cell_type": "markdown",
   "metadata": {},
   "source": [
    "Y tambien admiten devolver algo cuando son ejecutadas"
   ]
  },
  {
   "cell_type": "code",
   "execution_count": 25,
   "metadata": {},
   "outputs": [],
   "source": [
    "def mifuncion(y,z):\n",
    "    # Devolvemos el valor de multiplicar los dos argumentos\n",
    "    return y*z"
   ]
  },
  {
   "cell_type": "markdown",
   "metadata": {},
   "source": [
    "Al ejecutar la funcion :"
   ]
  },
  {
   "cell_type": "code",
   "execution_count": 26,
   "metadata": {},
   "outputs": [
    {
     "data": {
      "text/plain": [
       "18"
      ]
     },
     "execution_count": 26,
     "metadata": {},
     "output_type": "execute_result"
    }
   ],
   "source": [
    "mifuncion(2,9)"
   ]
  },
  {
   "cell_type": "markdown",
   "metadata": {},
   "source": [
    "Las funciones tienen su propio ecosistema. Las variables definidas dentro de la funcion solo existen<br> \n",
    "dentro de la funcion, se dice que son 'locales'<br>\n",
    "Si por ejemplo la variable 'y' se invoca fuera de la funcion, se producirá un error."
   ]
  },
  {
   "cell_type": "code",
   "execution_count": 27,
   "metadata": {},
   "outputs": [
    {
     "ename": "NameError",
     "evalue": "name 'y' is not defined",
     "output_type": "error",
     "traceback": [
      "\u001b[0;31m---------------------------------------------------------------------------\u001b[0m",
      "\u001b[0;31mNameError\u001b[0m                                 Traceback (most recent call last)",
      "\u001b[0;32m<ipython-input-27-9063a9f0e032>\u001b[0m in \u001b[0;36m<module>\u001b[0;34m\u001b[0m\n\u001b[0;32m----> 1\u001b[0;31m \u001b[0my\u001b[0m\u001b[0;34m\u001b[0m\u001b[0;34m\u001b[0m\u001b[0m\n\u001b[0m",
      "\u001b[0;31mNameError\u001b[0m: name 'y' is not defined"
     ]
    }
   ],
   "source": [
    "y"
   ]
  },
  {
   "cell_type": "markdown",
   "metadata": {},
   "source": [
    "Las variables definidad fuera de las funciones se consideran globales. Aunque esa propiedad no las permite<br>\n",
    "**por defecto** poder ser alteradas por la funcion"
   ]
  },
  {
   "cell_type": "code",
   "execution_count": 30,
   "metadata": {},
   "outputs": [
    {
     "name": "stdout",
     "output_type": "stream",
     "text": [
      "27\n"
     ]
    }
   ],
   "source": [
    "y = mifuncion(3,9)\n",
    "print(y)"
   ]
  },
  {
   "cell_type": "markdown",
   "metadata": {},
   "source": [
    "En este caso y _global_ es 27, mientras que _y_ local, es 3"
   ]
  },
  {
   "cell_type": "markdown",
   "metadata": {},
   "source": [
    "Existe un modo de poder alterar variables globales dentro de una funcion, pero no es recomendable.<br>\n",
    "Puede llevar a resultados **catastroficos**."
   ]
  },
  {
   "cell_type": "markdown",
   "metadata": {},
   "source": [
    "Las funciones pueden devolver más de un elemento."
   ]
  },
  {
   "cell_type": "code",
   "execution_count": 34,
   "metadata": {},
   "outputs": [],
   "source": [
    "def miotrafuncion(x,y):\n",
    "    multi = x*y\n",
    "    suma = x+y\n",
    "    return multi,suma"
   ]
  },
  {
   "cell_type": "code",
   "execution_count": null,
   "metadata": {},
   "outputs": [],
   "source": [
    "Para obtener el resultado de la multiplicacion y de la suma, es necesario definir ambas variables.<br>"
   ]
  },
  {
   "cell_type": "code",
   "execution_count": 36,
   "metadata": {},
   "outputs": [],
   "source": [
    "multiplicacion , suma = miotrafuncion(3,5)"
   ]
  },
  {
   "cell_type": "markdown",
   "metadata": {},
   "source": [
    "# Almacenamiento\n",
    "En Python existen varios tipos de elementos para almacenar variables.\n",
    "\n",
    "Los 2 más comunes son :\n",
    "+ list : Comunmente usado con listas de strings y números\n",
    "+ dictionary : Objetos multidimensionales que mezclan listas y arrays"
   ]
  },
  {
   "cell_type": "markdown",
   "metadata": {},
   "source": [
    "Empezaremos con la lista. En este caso esta compuesta por 3 _strings_"
   ]
  },
  {
   "cell_type": "code",
   "execution_count": 21,
   "metadata": {},
   "outputs": [
    {
     "name": "stdout",
     "output_type": "stream",
     "text": [
      "['A', 'B', 'C']\n"
     ]
    }
   ],
   "source": [
    "lista = ['A','B','C']\n",
    "print(lista)"
   ]
  },
  {
   "cell_type": "markdown",
   "metadata": {},
   "source": [
    "En Python, las listas pueden estar compuestas practicamente de cualquier objeto..."
   ]
  },
  {
   "cell_type": "code",
   "execution_count": 22,
   "metadata": {},
   "outputs": [],
   "source": [
    "lista_b = [A,'B','C']"
   ]
  },
  {
   "cell_type": "markdown",
   "metadata": {},
   "source": [
    "Que diferencia hay entre lista y lista_b?"
   ]
  },
  {
   "cell_type": "code",
   "execution_count": 23,
   "metadata": {},
   "outputs": [
    {
     "name": "stdout",
     "output_type": "stream",
     "text": [
      "['un texto muy largo', 'B', 'C']\n"
     ]
    }
   ],
   "source": [
    "print(lista_b)"
   ]
  },
  {
   "cell_type": "markdown",
   "metadata": {},
   "source": [
    "A es una variable en lugar de un texto. Las comillas hacen la diferencia.<br>\n",
    "Del mismo modo podemos usar x como variable o introducir un valor numerico en la lista."
   ]
  },
  {
   "cell_type": "code",
   "execution_count": 51,
   "metadata": {},
   "outputs": [
    {
     "name": "stdout",
     "output_type": "stream",
     "text": [
      "['un texto muy largo', 'B', 212, 'x', 345]\n"
     ]
    }
   ],
   "source": [
    "lista = [A,'B',x,'x',345]\n",
    "print(lista)"
   ]
  },
  {
   "cell_type": "markdown",
   "metadata": {},
   "source": [
    "**Nota** : En Jupyter se puede ver la diferencia por el distinto color que toman los objetos"
   ]
  },
  {
   "cell_type": "markdown",
   "metadata": {},
   "source": [
    "Ejercicio : hacer una funcion que devuelva la multiplicacion y suma almacenadas en una lista"
   ]
  },
  {
   "cell_type": "code",
   "execution_count": 38,
   "metadata": {},
   "outputs": [],
   "source": [
    "def mifuncion(x,y):\n",
    "    return [x*y,x+y]"
   ]
  },
  {
   "cell_type": "code",
   "execution_count": 50,
   "metadata": {},
   "outputs": [
    {
     "name": "stdout",
     "output_type": "stream",
     "text": [
      "[0, 4]\n"
     ]
    }
   ],
   "source": [
    "flista = mifuncion(4,0)\n",
    "print(flista)"
   ]
  },
  {
   "cell_type": "markdown",
   "metadata": {},
   "source": [
    "Las listas estan compuestas de elementos ordenados, por lo tanto es posible poder acceder a estos tomando su<br>\n",
    "posicion como refencia.<br>\n",
    "El primer elemento corresponde a la posicion **CERO** (esto arbitrario y no es todos los lengaujes ocurre...aunque si en casi todos)"
   ]
  },
  {
   "cell_type": "code",
   "execution_count": 52,
   "metadata": {},
   "outputs": [
    {
     "data": {
      "text/plain": [
       "'un texto muy largo'"
      ]
     },
     "execution_count": 52,
     "metadata": {},
     "output_type": "execute_result"
    }
   ],
   "source": [
    "lista[0]"
   ]
  },
  {
   "cell_type": "markdown",
   "metadata": {},
   "source": [
    "Y asi sucesivamente:"
   ]
  },
  {
   "cell_type": "code",
   "execution_count": 55,
   "metadata": {},
   "outputs": [
    {
     "name": "stdout",
     "output_type": "stream",
     "text": [
      "B\n",
      "212\n",
      "x\n",
      "345\n"
     ]
    }
   ],
   "source": [
    "print(lista[1])\n",
    "print(lista[2])\n",
    "print(lista[3])\n",
    "print(lista[4])"
   ]
  },
  {
   "cell_type": "markdown",
   "metadata": {},
   "source": [
    "Es posible acceder de modo inverso a los elementos.<br>\n",
    "Y asi, la posicion (o _index_) final toma el valor -1.<br>\n",
    "El valor anterior al ultimo toma el valor -2, y asi sucesivamente."
   ]
  },
  {
   "cell_type": "code",
   "execution_count": 56,
   "metadata": {},
   "outputs": [
    {
     "name": "stdout",
     "output_type": "stream",
     "text": [
      "345\n",
      "x\n",
      "212\n",
      "B\n"
     ]
    }
   ],
   "source": [
    "print(lista[-1])\n",
    "print(lista[-2])\n",
    "print(lista[-3])\n",
    "print(lista[-4])"
   ]
  },
  {
   "cell_type": "markdown",
   "metadata": {},
   "source": [
    "Otro elemento muy utilizado es el _dictionary_. Se utiliza para almacenar valores numericos en varias dimensiones.<br>"
   ]
  },
  {
   "cell_type": "markdown",
   "metadata": {},
   "source": [
    "Los diccionarios se definen por elementos denominados _keys_.<br>\n",
    "Una vez definido el _key_ este puede contener todos y cada uno de los objetos que existen en Python."
   ]
  },
  {
   "cell_type": "code",
   "execution_count": 44,
   "metadata": {},
   "outputs": [],
   "source": [
    "a = dict({'A':2 , 'B':[1,34,2], 'C':A})"
   ]
  },
  {
   "cell_type": "code",
   "execution_count": 59,
   "metadata": {},
   "outputs": [
    {
     "name": "stdout",
     "output_type": "stream",
     "text": [
      "{'A': 2, 'B': [1, 34, 2], 'C': 'un texto muy largo'}\n"
     ]
    }
   ],
   "source": [
    "print(a)"
   ]
  },
  {
   "cell_type": "markdown",
   "metadata": {},
   "source": [
    "Para acceder a un elemento, se debe acudir a su _key_.<br>"
   ]
  },
  {
   "cell_type": "code",
   "execution_count": 60,
   "metadata": {},
   "outputs": [
    {
     "data": {
      "text/plain": [
       "'un texto muy largo'"
      ]
     },
     "execution_count": 60,
     "metadata": {},
     "output_type": "execute_result"
    }
   ],
   "source": [
    "a['C']"
   ]
  },
  {
   "cell_type": "markdown",
   "metadata": {},
   "source": [
    "A diferencia de las listas, los elementos de los diccionarios no estan ordenados, y por lo tanto no hay <br>\n",
    "primer o ultimo elemento.<br>\n",
    "Las _keys_ pueden ser del tipo entero o texto"
   ]
  },
  {
   "cell_type": "code",
   "execution_count": 62,
   "metadata": {},
   "outputs": [],
   "source": [
    "a = dict({'A':2 , 'B':[1,34,2], 'C':A, 3:5})"
   ]
  },
  {
   "cell_type": "code",
   "execution_count": 63,
   "metadata": {},
   "outputs": [
    {
     "name": "stdout",
     "output_type": "stream",
     "text": [
      "{'A': 2, 'B': [1, 34, 2], 'C': 'un texto muy largo', 3: 5}\n"
     ]
    }
   ],
   "source": [
    "print(a)"
   ]
  },
  {
   "cell_type": "markdown",
   "metadata": {},
   "source": [
    "Como se puede apreciar, los diccionarios otorgan una gran flexibilidad"
   ]
  },
  {
   "cell_type": "code",
   "execution_count": 70,
   "metadata": {},
   "outputs": [],
   "source": [
    "a = dict({'A':2 , 'B':[1,34,2], 'C':A, 3:5, 'funcion':mifuncion(3,4)})"
   ]
  },
  {
   "cell_type": "code",
   "execution_count": 71,
   "metadata": {},
   "outputs": [
    {
     "name": "stdout",
     "output_type": "stream",
     "text": [
      "{'A': 2, 'B': [1, 34, 2], 'C': 'un texto muy largo', 3: 5, 'funcion': [12, 7]}\n"
     ]
    }
   ],
   "source": [
    "print(a)"
   ]
  },
  {
   "cell_type": "code",
   "execution_count": 74,
   "metadata": {},
   "outputs": [
    {
     "data": {
      "text/plain": [
       "[12, 7]"
      ]
     },
     "execution_count": 74,
     "metadata": {},
     "output_type": "execute_result"
    }
   ],
   "source": [
    "a['funcion']"
   ]
  },
  {
   "cell_type": "markdown",
   "metadata": {},
   "source": [
    "Ejercio : crear una funcion que devuelva, en un diccionario, la suma y multiplicacion del primer y ultimo elemento\n",
    "de una lista."
   ]
  }
 ],
 "metadata": {
  "kernelspec": {
   "display_name": "Python 3",
   "language": "python",
   "name": "python3"
  },
  "language_info": {
   "codemirror_mode": {
    "name": "ipython",
    "version": 3
   },
   "file_extension": ".py",
   "mimetype": "text/x-python",
   "name": "python",
   "nbconvert_exporter": "python",
   "pygments_lexer": "ipython3",
   "version": "3.6.7"
  }
 },
 "nbformat": 4,
 "nbformat_minor": 2
}
